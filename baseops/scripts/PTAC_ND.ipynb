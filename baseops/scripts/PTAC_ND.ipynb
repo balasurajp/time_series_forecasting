{
 "cells": [
  {
   "cell_type": "code",
   "execution_count": 1,
   "metadata": {},
   "outputs": [],
   "source": [
    "import json, os, joblib, sys\n",
    "import pandas as pd, numpy as np\n",
    "from pymongo import MongoClient\n",
    "from glob import glob\n",
    "\n",
    "sys.path.insert(0, os.path.abspath('../../'))\n",
    "from utilsbox.misc import normalScaler"
   ]
  },
  {
   "cell_type": "code",
   "execution_count": 28,
   "metadata": {},
   "outputs": [],
   "source": [
    "mongoclient = MongoClient(\"localhost\", 27017)\n",
    "database    = mongoclient['PowerTAC2020_RANDPROFILES'] # mongoclient['PowerTAC2020_NDC']\n",
    "collection1 = database['DistributionTransaction_and_Report_Info'] # database['Distribution Report Information']\n",
    "collection2 = database['Calendar_Info']\n",
    "dst = '/home/suraj/Desktop/TSFM/database/'"
   ]
  },
  {
   "cell_type": "code",
   "execution_count": 29,
   "metadata": {},
   "outputs": [],
   "source": [
    "dataframe1 = list(collection1.find())\n",
    "dataframe2 = list(collection2.find())\n",
    "dataframe1 = pd.DataFrame(dataframe1)\n",
    "dataframe2 = pd.DataFrame(dataframe2)\n",
    "\n",
    "dataframe = pd.merge(dataframe1, dataframe2, on=['Game_Name', 'Timeslot'], validate='1:1')\n",
    "assert len(dataframe[dataframe[['Game_Name', 'Timeslot']].duplicated()])==0, 'Duplicates in Dataframe!'\n",
    "\n",
    "dataframe = dataframe[['Game_Name', 'Date', 'Total_Production', 'Total_Consumption']] # dataframe[['Game Name', 'Date', 'Total Production', 'Total Consumption']]\n",
    "dataframe.columns = ['simulation', 'timestamp', 'production', 'consumption']\n",
    "dataframe['netdemand'] = dataframe['consumption'] - dataframe['production']\n",
    "dataframe = dataframe[['simulation', 'timestamp', 'consumption', 'production', 'netdemand']]\n",
    "dataframe.columns = ['simulation', 'timestamp', 'netconsumption', 'netproduction', 'netdemand']"
   ]
  },
  {
   "cell_type": "code",
   "execution_count": 30,
   "metadata": {},
   "outputs": [],
   "source": [
    "tagname = 'RAND'\n",
    "os.makedirs(f'{dst}/ptacnd', exist_ok=True)\n",
    "os.makedirs(f'{dst}/ptacnc', exist_ok=True)\n",
    "os.makedirs(f'{dst}/ptacnp', exist_ok=True)\n",
    "\n",
    "def outlierremoval(x, valuerange):\n",
    "    if (x>valuerange[0]) and (x<valuerange[1]):\n",
    "        y = x\n",
    "    else:\n",
    "        y = np.nan\n",
    "    return y\n",
    "\n",
    "dataframe['timestamp'] = dataframe['timestamp'].astype('datetime64[h]')\n",
    "ndrange = (dataframe.loc[:, 'netdemand'].mean()-3*dataframe.loc[:, 'netdemand'].std(), dataframe.loc[:, 'netdemand'].mean()+3*dataframe.loc[:, 'netdemand'].std())\n",
    "dataframe.loc[:, 'netdemand'] = dataframe.loc[:, 'netdemand'].apply(lambda x:outlierremoval(x, ndrange))\n",
    "ndrange = (dataframe.loc[:, 'netconsumption'].mean()-3*dataframe.loc[:, 'netconsumption'].std(), dataframe.loc[:, 'netconsumption'].mean()+3*dataframe.loc[:, 'netconsumption'].std())\n",
    "dataframe.loc[:, 'netconsumption'] = dataframe.loc[:, 'netconsumption'].apply(lambda x:outlierremoval(x, ndrange))\n",
    "ndrange = (dataframe.loc[:, 'netproduction'].mean()-3*dataframe.loc[:, 'netproduction'].std(), dataframe.loc[:, 'netproduction'].mean()+3*dataframe.loc[:, 'netproduction'].std())\n",
    "dataframe.loc[:, 'netproduction'] = dataframe.loc[:, 'netproduction'].apply(lambda x:outlierremoval(x, ndrange))\n",
    "\n",
    "# simulations = sorted(dataframe['simulation'].unique(), key=lambda x: int(x[15:]))\n",
    "simulations = sorted(dataframe['simulation'].unique())\n",
    "for simno, sim in enumerate(simulations):\n",
    "    miniframe = dataframe[dataframe['simulation']==sim].reset_index(drop=True)\n",
    "    miniframe.set_index('timestamp', inplace=True)\n",
    "    miniframe = miniframe.resample('H').interpolate()\n",
    "    miniframe = miniframe.reset_index()\n",
    "    \n",
    "    n1 = 24-miniframe.loc[0, 'timestamp'].hour\n",
    "    n2 = miniframe.loc[len(miniframe)-1, 'timestamp'].hour+1\n",
    "    \n",
    "    miniframe = miniframe.loc[n1:len(miniframe)-n2-1]\n",
    "    ndframe = miniframe[['timestamp', 'netdemand']].copy()\n",
    "    ncframe = miniframe[['timestamp', 'netconsumption']].copy()\n",
    "    npframe = miniframe[['timestamp', 'netproduction']].copy()\n",
    "    \n",
    "#     ndframe.loc[:, 'netdemand_EWA'] = ndframe.loc[:, 'netdemand'].ewm(alpha = 0.6).mean()\n",
    "#     ndframe.loc[:, 'netdemand_GWA'] = ndframe.loc[:, 'netdemand'].rolling(window=5, win_type='gaussian', min_periods=1, center=True).mean(std=1)\n",
    "#     ncframe.loc[:, 'netconsumption_EWA'] = ncframe.loc[:, 'netconsumption'].ewm(alpha = 0.6).mean()\n",
    "#     ncframe.loc[:, 'netconsumption_GWA'] = ncframe.loc[:, 'netconsumption'].rolling(window=5, win_type='gaussian', min_periods=1, center=True).mean(std=1)\n",
    "#     npframe.loc[:, 'netproduction_EWA'] = npframe.loc[:, 'netproduction'].ewm(alpha = 0.6).mean()\n",
    "#     npframe.loc[:, 'netproduction_GWA'] = npframe.loc[:, 'netproduction'].rolling(window=5, win_type='gaussian', min_periods=1, center=True).mean(std=1)\n",
    "\n",
    "    mode = 'train' if (simno/len(simulations))<0.8 else 'test' \n",
    "    ndframe.to_csv(f'{dst}/ptacnd/{tagname}_{sim}_{mode}.csv', index=False)\n",
    "    ncframe.to_csv(f'{dst}/ptacnc/{tagname}_{sim}_{mode}.csv', index=False)\n",
    "    npframe.to_csv(f'{dst}/ptacnp/{tagname}_{sim}_{mode}.csv', index=False)\n"
   ]
  },
  {
   "cell_type": "code",
   "execution_count": null,
   "metadata": {},
   "outputs": [],
   "source": []
  }
 ],
 "metadata": {
  "kernelspec": {
   "display_name": "Python 3",
   "language": "python",
   "name": "python3"
  },
  "language_info": {
   "codemirror_mode": {
    "name": "ipython",
    "version": 3
   },
   "file_extension": ".py",
   "mimetype": "text/x-python",
   "name": "python",
   "nbconvert_exporter": "python",
   "pygments_lexer": "ipython3",
   "version": "3.6.9"
  }
 },
 "nbformat": 4,
 "nbformat_minor": 4
}
