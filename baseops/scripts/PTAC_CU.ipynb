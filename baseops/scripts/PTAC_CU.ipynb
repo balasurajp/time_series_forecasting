{
 "cells": [
  {
   "cell_type": "code",
   "execution_count": 44,
   "metadata": {},
   "outputs": [],
   "source": [
    "import json, os, joblib, sys\n",
    "import pandas as pd, numpy as np\n",
    "from pymongo import MongoClient\n",
    "from glob import glob\n",
    "\n",
    "from tslearn.clustering import TimeSeriesKMeans\n",
    "from tslearn.datasets import CachedDatasets\n",
    "from tslearn.preprocessing import TimeSeriesScalerMeanVariance, TimeSeriesResampler\n",
    "\n",
    "import plotly.graph_objects as go\n",
    "import plotly as ply\n",
    "import plotly.express as px\n",
    "from plotly.subplots import make_subplots\n",
    "import chart_studio.plotly as py\n",
    "import plotly.figure_factory as ff\n",
    "\n",
    "sys.path.insert(0, os.path.abspath('../../'))\n",
    "from utilsbox.misc import normalScaler\n",
    "\n",
    "def outlierremoval(x, valuerange):\n",
    "    if (x>valuerange[0]) and (x<valuerange[1]):\n",
    "        y = x\n",
    "    else:\n",
    "        y = np.nan\n",
    "    return y"
   ]
  },
  {
   "cell_type": "code",
   "execution_count": 36,
   "metadata": {},
   "outputs": [],
   "source": [
    "mongoclient = MongoClient(\"localhost\", 27017)\n",
    "database    = mongoclient['PowerTAC2020_RANDPROFILES'] \n",
    "collection1 = database['Customer_Usage_Data'] # database['Distribution Report Information']\n",
    "collection2 = database['Calendar_Info']\n",
    "dst = '/home/suraj/Desktop/TSFM/database/'"
   ]
  },
  {
   "cell_type": "code",
   "execution_count": 37,
   "metadata": {},
   "outputs": [],
   "source": [
    "dataframe1 = list(collection1.find())\n",
    "dataframe2 = list(collection2.find())\n",
    "dataframe1 = pd.DataFrame(dataframe1)\n",
    "dataframe1.rename(columns={\"Game Name\": \"Game_Name\"}, inplace=True)\n",
    "dataframe2 = pd.DataFrame(dataframe2)\n",
    "\n",
    "dataframe = pd.merge(dataframe1, dataframe2, on=['Game_Name', 'Timeslot'], validate='1:1')\n",
    "assert len(dataframe[dataframe[['Game_Name', 'Timeslot']].duplicated()])==0, 'Duplicates in Dataframe!'"
   ]
  },
  {
   "cell_type": "code",
   "execution_count": 38,
   "metadata": {},
   "outputs": [],
   "source": [
    "gamecustomers = [name.replace('Usage_Per_Population_','') for name in dataframe.columns.tolist() if \"Usage_Per_Population\" in name]\n",
    "customers = [\n",
    " 'BrooksideHomes',\n",
    " 'CentervilleHomes',\n",
    " 'DowntownOffices',\n",
    " 'EastsideOffices',\n",
    " 'FrostyStorage',\n",
    " 'HextraChemical',\n",
    " 'MedicalCenter-1',\n",
    " 'OfficeComplex 1 NS Base',\n",
    " 'OfficeComplex 1 NS Controllable',\n",
    " 'OfficeComplex 1 SS Base',\n",
    " 'OfficeComplex 1 SS Controllable',\n",
    " 'OfficeComplex 2 NS Base',\n",
    " 'OfficeComplex 2 NS Controllable',\n",
    " 'OfficeComplex 2 SS Base',\n",
    " 'OfficeComplex 2 SS Controllable',\n",
    " 'Village 1 NS Base',\n",
    " 'Village 1 NS Controllable',\n",
    " 'Village 1 RaS Base',\n",
    " 'Village 1 RaS Controllable',\n",
    " 'Village 1 ReS Base',\n",
    " 'Village 1 ReS Controllable',\n",
    " 'Village 1 SS Base',\n",
    " 'Village 1 SS Controllable',\n",
    " 'Village 2 NS Base',\n",
    " 'Village 2 NS Controllable',\n",
    " 'Village 2 RaS Base',\n",
    " 'Village 2 RaS Controllable',\n",
    " 'Village 2 ReS Base',\n",
    " 'Village 2 ReS Controllable',\n",
    " 'Village 2 SS Base',\n",
    " 'Village 2 SS Controllable',\n",
    " 'fc2',\n",
    " 'fc3',\n",
    " 'freezeco-1',\n",
    " 'freezeco-2',\n",
    " 'freezeco-3',\n",
    " 'seafood-1',\n",
    " 'seafood-2',\n",
    " 'sf2',\n",
    " 'sf3']\n",
    "assert set(gamecustomers) == set(customers), 'Missing Customers'\n",
    "\n",
    "requiredcolumns = ['Game_Name', 'Timeslot', 'Date', 'Tariff'] + [f'Usage_Per_Population_{name}' for name in customers]\n",
    "renamecolumns = ['simulation', 'timeslot', 'timestamp', 'tariff'] + [f'ppusage_{name}' for name in customers]\n",
    "dataframe = dataframe[requiredcolumns]\n",
    "dataframe.columns = renamecolumns"
   ]
  },
  {
   "cell_type": "code",
   "execution_count": 39,
   "metadata": {},
   "outputs": [],
   "source": [
    "tagname = 'RAND'\n",
    "os.makedirs(f'{dst}/ptaccu', exist_ok=True)\n",
    "dataframe['timestamp'] = dataframe['timestamp'].astype('datetime64[h]')\n",
    "\n",
    "for name in customers:\n",
    "    vrange = (dataframe.loc[:, f'ppusage_{name}'].mean()-3*dataframe.loc[:, f'ppusage_{name}'].std(), dataframe.loc[:, f'ppusage_{name}'].mean()+3*dataframe.loc[:, f'ppusage_{name}'].std())\n",
    "    dataframe.loc[:, f'ppusage_{name}'] = dataframe.loc[:, f'ppusage_{name}'].apply(lambda x:outlierremoval(x, vrange))\n",
    "    \n",
    "simulations = sorted(dataframe['simulation'].unique())\n",
    "for simno, sim in enumerate(simulations):\n",
    "    miniframe = dataframe[dataframe['simulation']==sim].reset_index(drop=True)\n",
    "    miniframe.set_index('timestamp', inplace=True)\n",
    "    miniframe = miniframe.resample('H').interpolate(method='bfill', limit_direction='backward')\n",
    "    miniframe = miniframe.reset_index()\n",
    "    \n",
    "    n1 = 24-miniframe.loc[0, 'timestamp'].hour\n",
    "    n2 = miniframe.loc[len(miniframe)-1, 'timestamp'].hour+1\n",
    "    miniframe = miniframe.loc[n1:len(miniframe)-n2-1]\n",
    "    \n",
    "#     for name in customers:\n",
    "#         miniframe.loc[:, f'ppusage_{name}_EWA'] = miniframe.loc[:, f'ppusage_{name}'].ewm(alpha = 0.6).mean()\n",
    "#         miniframe.loc[:, f'ppusage_{name}_GWA'] = miniframe.loc[:, f'ppusage_{name}'].rolling(window=5, win_type='gaussian', min_periods=1, center=True).mean(std=1)\n",
    "    \n",
    "    mode = 'train' if (simno/len(simulations))<0.8 else 'test' \n",
    "    miniframe.to_csv(f'{dst}/ptaccu/{tagname}_{sim}_{mode}.csv', index=False)"
   ]
  },
  {
   "cell_type": "code",
   "execution_count": null,
   "metadata": {},
   "outputs": [],
   "source": []
  },
  {
   "cell_type": "code",
   "execution_count": 40,
   "metadata": {},
   "outputs": [
    {
     "data": {
      "text/plain": [
       "['ppusage_BrooksideHomes',\n",
       " 'ppusage_CentervilleHomes',\n",
       " 'ppusage_DowntownOffices',\n",
       " 'ppusage_EastsideOffices',\n",
       " 'ppusage_FrostyStorage',\n",
       " 'ppusage_HextraChemical',\n",
       " 'ppusage_MedicalCenter-1',\n",
       " 'ppusage_OfficeComplex 1 NS Base',\n",
       " 'ppusage_OfficeComplex 1 NS Controllable',\n",
       " 'ppusage_OfficeComplex 1 SS Base',\n",
       " 'ppusage_OfficeComplex 1 SS Controllable',\n",
       " 'ppusage_OfficeComplex 2 NS Base',\n",
       " 'ppusage_OfficeComplex 2 NS Controllable',\n",
       " 'ppusage_OfficeComplex 2 SS Base',\n",
       " 'ppusage_OfficeComplex 2 SS Controllable',\n",
       " 'ppusage_Village 1 NS Base',\n",
       " 'ppusage_Village 1 NS Controllable',\n",
       " 'ppusage_Village 1 RaS Base',\n",
       " 'ppusage_Village 1 RaS Controllable',\n",
       " 'ppusage_Village 1 ReS Base',\n",
       " 'ppusage_Village 1 ReS Controllable',\n",
       " 'ppusage_Village 1 SS Base',\n",
       " 'ppusage_Village 1 SS Controllable',\n",
       " 'ppusage_Village 2 NS Base',\n",
       " 'ppusage_Village 2 NS Controllable',\n",
       " 'ppusage_Village 2 RaS Base',\n",
       " 'ppusage_Village 2 RaS Controllable',\n",
       " 'ppusage_Village 2 ReS Base',\n",
       " 'ppusage_Village 2 ReS Controllable',\n",
       " 'ppusage_Village 2 SS Base',\n",
       " 'ppusage_Village 2 SS Controllable',\n",
       " 'ppusage_fc2',\n",
       " 'ppusage_fc3',\n",
       " 'ppusage_freezeco-1',\n",
       " 'ppusage_freezeco-2',\n",
       " 'ppusage_freezeco-3',\n",
       " 'ppusage_seafood-1',\n",
       " 'ppusage_seafood-2',\n",
       " 'ppusage_sf2',\n",
       " 'ppusage_sf3']"
      ]
     },
     "execution_count": 40,
     "metadata": {},
     "output_type": "execute_result"
    }
   ],
   "source": [
    "[f'ppusage_{name}' for name in customers]"
   ]
  },
  {
   "cell_type": "code",
   "execution_count": null,
   "metadata": {},
   "outputs": [],
   "source": []
  },
  {
   "cell_type": "code",
   "execution_count": null,
   "metadata": {},
   "outputs": [],
   "source": []
  },
  {
   "cell_type": "code",
   "execution_count": 21,
   "metadata": {},
   "outputs": [],
   "source": [
    "filecustomers = [\n",
    " 'ppusage_BrooksideHomes',\n",
    " 'ppusage_CentervilleHomes',\n",
    " 'ppusage_DowntownOffices',\n",
    " 'ppusage_EastsideOffices',\n",
    " 'ppusage_FrostyStorage',\n",
    " 'ppusage_HextraChemical',\n",
    " 'ppusage_MedicalCenter-1',\n",
    " 'ppusage_OfficeComplex 1 NS Base',\n",
    " 'ppusage_OfficeComplex 1 NS Controllable',\n",
    " 'ppusage_OfficeComplex 1 SS Base',\n",
    " 'ppusage_OfficeComplex 1 SS Controllable',\n",
    " 'ppusage_OfficeComplex 2 NS Base',\n",
    " 'ppusage_OfficeComplex 2 NS Controllable',\n",
    " 'ppusage_OfficeComplex 2 SS Base',\n",
    " 'ppusage_OfficeComplex 2 SS Controllable',\n",
    " 'ppusage_Village 1 NS Base',\n",
    " 'ppusage_Village 1 NS Controllable',\n",
    " 'ppusage_Village 1 RaS Base',\n",
    " 'ppusage_Village 1 RaS Controllable',\n",
    " 'ppusage_Village 1 ReS Base',\n",
    " 'ppusage_Village 1 ReS Controllable',\n",
    " 'ppusage_Village 1 SS Base',\n",
    " 'ppusage_Village 1 SS Controllable',\n",
    " 'ppusage_Village 2 NS Base',\n",
    " 'ppusage_Village 2 NS Controllable',\n",
    " 'ppusage_Village 2 RaS Base',\n",
    " 'ppusage_Village 2 RaS Controllable',\n",
    " 'ppusage_Village 2 ReS Base',\n",
    " 'ppusage_Village 2 ReS Controllable',\n",
    " 'ppusage_Village 2 SS Base',\n",
    " 'ppusage_Village 2 SS Controllable',\n",
    " 'ppusage_fc2',\n",
    " 'ppusage_fc3',\n",
    " 'ppusage_freezeco-1',\n",
    " 'ppusage_freezeco-2',\n",
    " 'ppusage_freezeco-3',\n",
    " 'ppusage_seafood-1',\n",
    " 'ppusage_seafood-2',\n",
    " 'ppusage_sf2',\n",
    " 'ppusage_sf3'\n",
    "]"
   ]
  },
  {
   "cell_type": "code",
   "execution_count": 55,
   "metadata": {},
   "outputs": [
    {
     "name": "stdout",
     "output_type": "stream",
     "text": [
      "(57600, 24, 1) (57600, 1)\n",
      "100.609 --> 52.707 --> 50.817 --> 50.449 --> 49.810 --> 50.256 --> 50.966 --> 51.553 --> 51.737 --> 51.561 --> 51.646 --> 51.701 --> 51.777 --> 51.773 --> 51.793 --> 51.432 --> 51.335 --> 51.317 --> 51.287 --> 51.289 --> \n"
     ]
    }
   ],
   "source": [
    "files = glob(f\"/home/suraj/Desktop/TSFM/database/ptaccu/*_train.csv\")\n",
    "files = [file for file in files if 'RAND' not in file]\n",
    "\n",
    "book = {name:[] for name in filecustomers}\n",
    "for file in files:\n",
    "    df = pd.read_csv(file, parse_dates=['timestamp'])\n",
    "    dates = df['timestamp'].dt.date.unique()\n",
    "    np.random.shuffle(dates)\n",
    "    \n",
    "    checkdates = dates[0:5]\n",
    "    df = df[df['timestamp'].dt.date.isin(checkdates)].reset_index(drop=True)\n",
    "    \n",
    "    for name in filecustomers:\n",
    "        for date in checkdates:\n",
    "            timeseries = df.loc[df['timestamp'].dt.date==date, name].to_numpy()\n",
    "            book[name].append(timeseries)\n",
    "    \n",
    "for idno, name in enumerate(filecustomers):\n",
    "    book[name] = np.expand_dims(np.stack(book[name], axis=0), axis=2)\n",
    "    book[name] = ( TimeSeriesScalerMeanVariance().fit_transform(book[name]), idno*np.ones(shape=(len(book[name]),1)) )\n",
    "\n",
    "X, Y = [], []\n",
    "for name in filecustomers:\n",
    "    X.append(book[name][0])\n",
    "    Y.append(book[name][1])\n",
    "X = np.concatenate(X, axis=0)\n",
    "Y = np.concatenate(Y, axis=0)\n",
    "print(X.shape, Y.shape)\n",
    "    \n",
    "model = TimeSeriesKMeans(n_clusters=4, metric=\"softdtw\", max_iter=20, metric_params={\"gamma\": .01}, verbose=True)\n",
    "C = model.fit_predict(X)"
   ]
  },
  {
   "cell_type": "code",
   "execution_count": 56,
   "metadata": {},
   "outputs": [
    {
     "data": {
      "application/vnd.plotly.v1+json": {
       "config": {
        "plotlyServerURL": "https://plot.ly"
       },
       "data": [
        {
         "name": "cluster_0",
         "text": [
          646,
          494,
          0,
          506,
          2,
          356,
          1,
          0,
          0,
          0,
          1,
          0,
          0,
          0,
          0,
          0,
          15,
          0,
          5,
          0,
          5,
          0,
          5,
          0,
          11,
          0,
          5,
          1,
          5,
          0,
          6,
          309,
          653,
          431,
          437,
          123,
          348,
          407,
          791,
          764
         ],
         "textposition": "outside",
         "type": "bar",
         "visible": true,
         "x": [
          "ppusage_BrooksideHomes",
          "ppusage_CentervilleHomes",
          "ppusage_DowntownOffices",
          "ppusage_EastsideOffices",
          "ppusage_FrostyStorage",
          "ppusage_HextraChemical",
          "ppusage_MedicalCenter-1",
          "ppusage_OfficeComplex 1 NS Base",
          "ppusage_OfficeComplex 1 NS Controllable",
          "ppusage_OfficeComplex 1 SS Base",
          "ppusage_OfficeComplex 1 SS Controllable",
          "ppusage_OfficeComplex 2 NS Base",
          "ppusage_OfficeComplex 2 NS Controllable",
          "ppusage_OfficeComplex 2 SS Base",
          "ppusage_OfficeComplex 2 SS Controllable",
          "ppusage_Village 1 NS Base",
          "ppusage_Village 1 NS Controllable",
          "ppusage_Village 1 RaS Base",
          "ppusage_Village 1 RaS Controllable",
          "ppusage_Village 1 ReS Base",
          "ppusage_Village 1 ReS Controllable",
          "ppusage_Village 1 SS Base",
          "ppusage_Village 1 SS Controllable",
          "ppusage_Village 2 NS Base",
          "ppusage_Village 2 NS Controllable",
          "ppusage_Village 2 RaS Base",
          "ppusage_Village 2 RaS Controllable",
          "ppusage_Village 2 ReS Base",
          "ppusage_Village 2 ReS Controllable",
          "ppusage_Village 2 SS Base",
          "ppusage_Village 2 SS Controllable",
          "ppusage_fc2",
          "ppusage_fc3",
          "ppusage_freezeco-1",
          "ppusage_freezeco-2",
          "ppusage_freezeco-3",
          "ppusage_seafood-1",
          "ppusage_seafood-2",
          "ppusage_sf2",
          "ppusage_sf3"
         ],
         "y": [
          646,
          494,
          0,
          506,
          2,
          356,
          1,
          0,
          0,
          0,
          1,
          0,
          0,
          0,
          0,
          0,
          15,
          0,
          5,
          0,
          5,
          0,
          5,
          0,
          11,
          0,
          5,
          1,
          5,
          0,
          6,
          309,
          653,
          431,
          437,
          123,
          348,
          407,
          791,
          764
         ]
        },
        {
         "name": "cluster_3",
         "text": [
          335,
          404,
          1432,
          619,
          1249,
          780,
          963,
          1204,
          1260,
          1147,
          1297,
          1192,
          1250,
          1137,
          1281,
          17,
          595,
          25,
          319,
          24,
          320,
          26,
          319,
          24,
          559,
          26,
          371,
          27,
          373,
          26,
          372,
          209,
          0,
          445,
          398,
          892,
          431,
          427,
          59,
          79
         ],
         "textposition": "outside",
         "type": "bar",
         "visible": true,
         "x": [
          "ppusage_BrooksideHomes",
          "ppusage_CentervilleHomes",
          "ppusage_DowntownOffices",
          "ppusage_EastsideOffices",
          "ppusage_FrostyStorage",
          "ppusage_HextraChemical",
          "ppusage_MedicalCenter-1",
          "ppusage_OfficeComplex 1 NS Base",
          "ppusage_OfficeComplex 1 NS Controllable",
          "ppusage_OfficeComplex 1 SS Base",
          "ppusage_OfficeComplex 1 SS Controllable",
          "ppusage_OfficeComplex 2 NS Base",
          "ppusage_OfficeComplex 2 NS Controllable",
          "ppusage_OfficeComplex 2 SS Base",
          "ppusage_OfficeComplex 2 SS Controllable",
          "ppusage_Village 1 NS Base",
          "ppusage_Village 1 NS Controllable",
          "ppusage_Village 1 RaS Base",
          "ppusage_Village 1 RaS Controllable",
          "ppusage_Village 1 ReS Base",
          "ppusage_Village 1 ReS Controllable",
          "ppusage_Village 1 SS Base",
          "ppusage_Village 1 SS Controllable",
          "ppusage_Village 2 NS Base",
          "ppusage_Village 2 NS Controllable",
          "ppusage_Village 2 RaS Base",
          "ppusage_Village 2 RaS Controllable",
          "ppusage_Village 2 ReS Base",
          "ppusage_Village 2 ReS Controllable",
          "ppusage_Village 2 SS Base",
          "ppusage_Village 2 SS Controllable",
          "ppusage_fc2",
          "ppusage_fc3",
          "ppusage_freezeco-1",
          "ppusage_freezeco-2",
          "ppusage_freezeco-3",
          "ppusage_seafood-1",
          "ppusage_seafood-2",
          "ppusage_sf2",
          "ppusage_sf3"
         ],
         "y": [
          335,
          404,
          1432,
          619,
          1249,
          780,
          963,
          1204,
          1260,
          1147,
          1297,
          1192,
          1250,
          1137,
          1281,
          17,
          595,
          25,
          319,
          24,
          320,
          26,
          319,
          24,
          559,
          26,
          371,
          27,
          373,
          26,
          372,
          209,
          0,
          445,
          398,
          892,
          431,
          427,
          59,
          79
         ]
        },
        {
         "name": "cluster_1",
         "text": [
          202,
          251,
          8,
          111,
          109,
          85,
          470,
          46,
          174,
          46,
          126,
          36,
          186,
          54,
          136,
          1419,
          767,
          1408,
          1091,
          1413,
          1091,
          1408,
          1090,
          1412,
          789,
          1412,
          1046,
          1409,
          1047,
          1411,
          1046,
          149,
          0,
          149,
          173,
          141,
          198,
          188,
          0,
          27
         ],
         "textposition": "outside",
         "type": "bar",
         "visible": true,
         "x": [
          "ppusage_BrooksideHomes",
          "ppusage_CentervilleHomes",
          "ppusage_DowntownOffices",
          "ppusage_EastsideOffices",
          "ppusage_FrostyStorage",
          "ppusage_HextraChemical",
          "ppusage_MedicalCenter-1",
          "ppusage_OfficeComplex 1 NS Base",
          "ppusage_OfficeComplex 1 NS Controllable",
          "ppusage_OfficeComplex 1 SS Base",
          "ppusage_OfficeComplex 1 SS Controllable",
          "ppusage_OfficeComplex 2 NS Base",
          "ppusage_OfficeComplex 2 NS Controllable",
          "ppusage_OfficeComplex 2 SS Base",
          "ppusage_OfficeComplex 2 SS Controllable",
          "ppusage_Village 1 NS Base",
          "ppusage_Village 1 NS Controllable",
          "ppusage_Village 1 RaS Base",
          "ppusage_Village 1 RaS Controllable",
          "ppusage_Village 1 ReS Base",
          "ppusage_Village 1 ReS Controllable",
          "ppusage_Village 1 SS Base",
          "ppusage_Village 1 SS Controllable",
          "ppusage_Village 2 NS Base",
          "ppusage_Village 2 NS Controllable",
          "ppusage_Village 2 RaS Base",
          "ppusage_Village 2 RaS Controllable",
          "ppusage_Village 2 ReS Base",
          "ppusage_Village 2 ReS Controllable",
          "ppusage_Village 2 SS Base",
          "ppusage_Village 2 SS Controllable",
          "ppusage_fc2",
          "ppusage_fc3",
          "ppusage_freezeco-1",
          "ppusage_freezeco-2",
          "ppusage_freezeco-3",
          "ppusage_seafood-1",
          "ppusage_seafood-2",
          "ppusage_sf2",
          "ppusage_sf3"
         ],
         "y": [
          202,
          251,
          8,
          111,
          109,
          85,
          470,
          46,
          174,
          46,
          126,
          36,
          186,
          54,
          136,
          1419,
          767,
          1408,
          1091,
          1413,
          1091,
          1408,
          1090,
          1412,
          789,
          1412,
          1046,
          1409,
          1047,
          1411,
          1046,
          149,
          0,
          149,
          173,
          141,
          198,
          188,
          0,
          27
         ]
        },
        {
         "name": "cluster_2",
         "text": [
          257,
          291,
          0,
          204,
          80,
          219,
          6,
          190,
          6,
          247,
          16,
          212,
          4,
          249,
          23,
          4,
          63,
          7,
          25,
          3,
          24,
          6,
          26,
          4,
          81,
          2,
          18,
          3,
          15,
          3,
          16,
          773,
          787,
          415,
          432,
          284,
          463,
          418,
          590,
          570
         ],
         "textposition": "outside",
         "type": "bar",
         "visible": true,
         "x": [
          "ppusage_BrooksideHomes",
          "ppusage_CentervilleHomes",
          "ppusage_DowntownOffices",
          "ppusage_EastsideOffices",
          "ppusage_FrostyStorage",
          "ppusage_HextraChemical",
          "ppusage_MedicalCenter-1",
          "ppusage_OfficeComplex 1 NS Base",
          "ppusage_OfficeComplex 1 NS Controllable",
          "ppusage_OfficeComplex 1 SS Base",
          "ppusage_OfficeComplex 1 SS Controllable",
          "ppusage_OfficeComplex 2 NS Base",
          "ppusage_OfficeComplex 2 NS Controllable",
          "ppusage_OfficeComplex 2 SS Base",
          "ppusage_OfficeComplex 2 SS Controllable",
          "ppusage_Village 1 NS Base",
          "ppusage_Village 1 NS Controllable",
          "ppusage_Village 1 RaS Base",
          "ppusage_Village 1 RaS Controllable",
          "ppusage_Village 1 ReS Base",
          "ppusage_Village 1 ReS Controllable",
          "ppusage_Village 1 SS Base",
          "ppusage_Village 1 SS Controllable",
          "ppusage_Village 2 NS Base",
          "ppusage_Village 2 NS Controllable",
          "ppusage_Village 2 RaS Base",
          "ppusage_Village 2 RaS Controllable",
          "ppusage_Village 2 ReS Base",
          "ppusage_Village 2 ReS Controllable",
          "ppusage_Village 2 SS Base",
          "ppusage_Village 2 SS Controllable",
          "ppusage_fc2",
          "ppusage_fc3",
          "ppusage_freezeco-1",
          "ppusage_freezeco-2",
          "ppusage_freezeco-3",
          "ppusage_seafood-1",
          "ppusage_seafood-2",
          "ppusage_sf2",
          "ppusage_sf3"
         ],
         "y": [
          257,
          291,
          0,
          204,
          80,
          219,
          6,
          190,
          6,
          247,
          16,
          212,
          4,
          249,
          23,
          4,
          63,
          7,
          25,
          3,
          24,
          6,
          26,
          4,
          81,
          2,
          18,
          3,
          15,
          3,
          16,
          773,
          787,
          415,
          432,
          284,
          463,
          418,
          590,
          570
         ]
        }
       ],
       "layout": {
        "template": {
         "data": {
          "bar": [
           {
            "error_x": {
             "color": "#2a3f5f"
            },
            "error_y": {
             "color": "#2a3f5f"
            },
            "marker": {
             "line": {
              "color": "#E5ECF6",
              "width": 0.5
             }
            },
            "type": "bar"
           }
          ],
          "barpolar": [
           {
            "marker": {
             "line": {
              "color": "#E5ECF6",
              "width": 0.5
             }
            },
            "type": "barpolar"
           }
          ],
          "carpet": [
           {
            "aaxis": {
             "endlinecolor": "#2a3f5f",
             "gridcolor": "white",
             "linecolor": "white",
             "minorgridcolor": "white",
             "startlinecolor": "#2a3f5f"
            },
            "baxis": {
             "endlinecolor": "#2a3f5f",
             "gridcolor": "white",
             "linecolor": "white",
             "minorgridcolor": "white",
             "startlinecolor": "#2a3f5f"
            },
            "type": "carpet"
           }
          ],
          "choropleth": [
           {
            "colorbar": {
             "outlinewidth": 0,
             "ticks": ""
            },
            "type": "choropleth"
           }
          ],
          "contour": [
           {
            "colorbar": {
             "outlinewidth": 0,
             "ticks": ""
            },
            "colorscale": [
             [
              0,
              "#0d0887"
             ],
             [
              0.1111111111111111,
              "#46039f"
             ],
             [
              0.2222222222222222,
              "#7201a8"
             ],
             [
              0.3333333333333333,
              "#9c179e"
             ],
             [
              0.4444444444444444,
              "#bd3786"
             ],
             [
              0.5555555555555556,
              "#d8576b"
             ],
             [
              0.6666666666666666,
              "#ed7953"
             ],
             [
              0.7777777777777778,
              "#fb9f3a"
             ],
             [
              0.8888888888888888,
              "#fdca26"
             ],
             [
              1,
              "#f0f921"
             ]
            ],
            "type": "contour"
           }
          ],
          "contourcarpet": [
           {
            "colorbar": {
             "outlinewidth": 0,
             "ticks": ""
            },
            "type": "contourcarpet"
           }
          ],
          "heatmap": [
           {
            "colorbar": {
             "outlinewidth": 0,
             "ticks": ""
            },
            "colorscale": [
             [
              0,
              "#0d0887"
             ],
             [
              0.1111111111111111,
              "#46039f"
             ],
             [
              0.2222222222222222,
              "#7201a8"
             ],
             [
              0.3333333333333333,
              "#9c179e"
             ],
             [
              0.4444444444444444,
              "#bd3786"
             ],
             [
              0.5555555555555556,
              "#d8576b"
             ],
             [
              0.6666666666666666,
              "#ed7953"
             ],
             [
              0.7777777777777778,
              "#fb9f3a"
             ],
             [
              0.8888888888888888,
              "#fdca26"
             ],
             [
              1,
              "#f0f921"
             ]
            ],
            "type": "heatmap"
           }
          ],
          "heatmapgl": [
           {
            "colorbar": {
             "outlinewidth": 0,
             "ticks": ""
            },
            "colorscale": [
             [
              0,
              "#0d0887"
             ],
             [
              0.1111111111111111,
              "#46039f"
             ],
             [
              0.2222222222222222,
              "#7201a8"
             ],
             [
              0.3333333333333333,
              "#9c179e"
             ],
             [
              0.4444444444444444,
              "#bd3786"
             ],
             [
              0.5555555555555556,
              "#d8576b"
             ],
             [
              0.6666666666666666,
              "#ed7953"
             ],
             [
              0.7777777777777778,
              "#fb9f3a"
             ],
             [
              0.8888888888888888,
              "#fdca26"
             ],
             [
              1,
              "#f0f921"
             ]
            ],
            "type": "heatmapgl"
           }
          ],
          "histogram": [
           {
            "marker": {
             "colorbar": {
              "outlinewidth": 0,
              "ticks": ""
             }
            },
            "type": "histogram"
           }
          ],
          "histogram2d": [
           {
            "colorbar": {
             "outlinewidth": 0,
             "ticks": ""
            },
            "colorscale": [
             [
              0,
              "#0d0887"
             ],
             [
              0.1111111111111111,
              "#46039f"
             ],
             [
              0.2222222222222222,
              "#7201a8"
             ],
             [
              0.3333333333333333,
              "#9c179e"
             ],
             [
              0.4444444444444444,
              "#bd3786"
             ],
             [
              0.5555555555555556,
              "#d8576b"
             ],
             [
              0.6666666666666666,
              "#ed7953"
             ],
             [
              0.7777777777777778,
              "#fb9f3a"
             ],
             [
              0.8888888888888888,
              "#fdca26"
             ],
             [
              1,
              "#f0f921"
             ]
            ],
            "type": "histogram2d"
           }
          ],
          "histogram2dcontour": [
           {
            "colorbar": {
             "outlinewidth": 0,
             "ticks": ""
            },
            "colorscale": [
             [
              0,
              "#0d0887"
             ],
             [
              0.1111111111111111,
              "#46039f"
             ],
             [
              0.2222222222222222,
              "#7201a8"
             ],
             [
              0.3333333333333333,
              "#9c179e"
             ],
             [
              0.4444444444444444,
              "#bd3786"
             ],
             [
              0.5555555555555556,
              "#d8576b"
             ],
             [
              0.6666666666666666,
              "#ed7953"
             ],
             [
              0.7777777777777778,
              "#fb9f3a"
             ],
             [
              0.8888888888888888,
              "#fdca26"
             ],
             [
              1,
              "#f0f921"
             ]
            ],
            "type": "histogram2dcontour"
           }
          ],
          "mesh3d": [
           {
            "colorbar": {
             "outlinewidth": 0,
             "ticks": ""
            },
            "type": "mesh3d"
           }
          ],
          "parcoords": [
           {
            "line": {
             "colorbar": {
              "outlinewidth": 0,
              "ticks": ""
             }
            },
            "type": "parcoords"
           }
          ],
          "pie": [
           {
            "automargin": true,
            "type": "pie"
           }
          ],
          "scatter": [
           {
            "marker": {
             "colorbar": {
              "outlinewidth": 0,
              "ticks": ""
             }
            },
            "type": "scatter"
           }
          ],
          "scatter3d": [
           {
            "line": {
             "colorbar": {
              "outlinewidth": 0,
              "ticks": ""
             }
            },
            "marker": {
             "colorbar": {
              "outlinewidth": 0,
              "ticks": ""
             }
            },
            "type": "scatter3d"
           }
          ],
          "scattercarpet": [
           {
            "marker": {
             "colorbar": {
              "outlinewidth": 0,
              "ticks": ""
             }
            },
            "type": "scattercarpet"
           }
          ],
          "scattergeo": [
           {
            "marker": {
             "colorbar": {
              "outlinewidth": 0,
              "ticks": ""
             }
            },
            "type": "scattergeo"
           }
          ],
          "scattergl": [
           {
            "marker": {
             "colorbar": {
              "outlinewidth": 0,
              "ticks": ""
             }
            },
            "type": "scattergl"
           }
          ],
          "scattermapbox": [
           {
            "marker": {
             "colorbar": {
              "outlinewidth": 0,
              "ticks": ""
             }
            },
            "type": "scattermapbox"
           }
          ],
          "scatterpolar": [
           {
            "marker": {
             "colorbar": {
              "outlinewidth": 0,
              "ticks": ""
             }
            },
            "type": "scatterpolar"
           }
          ],
          "scatterpolargl": [
           {
            "marker": {
             "colorbar": {
              "outlinewidth": 0,
              "ticks": ""
             }
            },
            "type": "scatterpolargl"
           }
          ],
          "scatterternary": [
           {
            "marker": {
             "colorbar": {
              "outlinewidth": 0,
              "ticks": ""
             }
            },
            "type": "scatterternary"
           }
          ],
          "surface": [
           {
            "colorbar": {
             "outlinewidth": 0,
             "ticks": ""
            },
            "colorscale": [
             [
              0,
              "#0d0887"
             ],
             [
              0.1111111111111111,
              "#46039f"
             ],
             [
              0.2222222222222222,
              "#7201a8"
             ],
             [
              0.3333333333333333,
              "#9c179e"
             ],
             [
              0.4444444444444444,
              "#bd3786"
             ],
             [
              0.5555555555555556,
              "#d8576b"
             ],
             [
              0.6666666666666666,
              "#ed7953"
             ],
             [
              0.7777777777777778,
              "#fb9f3a"
             ],
             [
              0.8888888888888888,
              "#fdca26"
             ],
             [
              1,
              "#f0f921"
             ]
            ],
            "type": "surface"
           }
          ],
          "table": [
           {
            "cells": {
             "fill": {
              "color": "#EBF0F8"
             },
             "line": {
              "color": "white"
             }
            },
            "header": {
             "fill": {
              "color": "#C8D4E3"
             },
             "line": {
              "color": "white"
             }
            },
            "type": "table"
           }
          ]
         },
         "layout": {
          "annotationdefaults": {
           "arrowcolor": "#2a3f5f",
           "arrowhead": 0,
           "arrowwidth": 1
          },
          "coloraxis": {
           "colorbar": {
            "outlinewidth": 0,
            "ticks": ""
           }
          },
          "colorscale": {
           "diverging": [
            [
             0,
             "#8e0152"
            ],
            [
             0.1,
             "#c51b7d"
            ],
            [
             0.2,
             "#de77ae"
            ],
            [
             0.3,
             "#f1b6da"
            ],
            [
             0.4,
             "#fde0ef"
            ],
            [
             0.5,
             "#f7f7f7"
            ],
            [
             0.6,
             "#e6f5d0"
            ],
            [
             0.7,
             "#b8e186"
            ],
            [
             0.8,
             "#7fbc41"
            ],
            [
             0.9,
             "#4d9221"
            ],
            [
             1,
             "#276419"
            ]
           ],
           "sequential": [
            [
             0,
             "#0d0887"
            ],
            [
             0.1111111111111111,
             "#46039f"
            ],
            [
             0.2222222222222222,
             "#7201a8"
            ],
            [
             0.3333333333333333,
             "#9c179e"
            ],
            [
             0.4444444444444444,
             "#bd3786"
            ],
            [
             0.5555555555555556,
             "#d8576b"
            ],
            [
             0.6666666666666666,
             "#ed7953"
            ],
            [
             0.7777777777777778,
             "#fb9f3a"
            ],
            [
             0.8888888888888888,
             "#fdca26"
            ],
            [
             1,
             "#f0f921"
            ]
           ],
           "sequentialminus": [
            [
             0,
             "#0d0887"
            ],
            [
             0.1111111111111111,
             "#46039f"
            ],
            [
             0.2222222222222222,
             "#7201a8"
            ],
            [
             0.3333333333333333,
             "#9c179e"
            ],
            [
             0.4444444444444444,
             "#bd3786"
            ],
            [
             0.5555555555555556,
             "#d8576b"
            ],
            [
             0.6666666666666666,
             "#ed7953"
            ],
            [
             0.7777777777777778,
             "#fb9f3a"
            ],
            [
             0.8888888888888888,
             "#fdca26"
            ],
            [
             1,
             "#f0f921"
            ]
           ]
          },
          "colorway": [
           "#636efa",
           "#EF553B",
           "#00cc96",
           "#ab63fa",
           "#FFA15A",
           "#19d3f3",
           "#FF6692",
           "#B6E880",
           "#FF97FF",
           "#FECB52"
          ],
          "font": {
           "color": "#2a3f5f"
          },
          "geo": {
           "bgcolor": "white",
           "lakecolor": "white",
           "landcolor": "#E5ECF6",
           "showlakes": true,
           "showland": true,
           "subunitcolor": "white"
          },
          "hoverlabel": {
           "align": "left"
          },
          "hovermode": "closest",
          "mapbox": {
           "style": "light"
          },
          "paper_bgcolor": "white",
          "plot_bgcolor": "#E5ECF6",
          "polar": {
           "angularaxis": {
            "gridcolor": "white",
            "linecolor": "white",
            "ticks": ""
           },
           "bgcolor": "#E5ECF6",
           "radialaxis": {
            "gridcolor": "white",
            "linecolor": "white",
            "ticks": ""
           }
          },
          "scene": {
           "xaxis": {
            "backgroundcolor": "#E5ECF6",
            "gridcolor": "white",
            "gridwidth": 2,
            "linecolor": "white",
            "showbackground": true,
            "ticks": "",
            "zerolinecolor": "white"
           },
           "yaxis": {
            "backgroundcolor": "#E5ECF6",
            "gridcolor": "white",
            "gridwidth": 2,
            "linecolor": "white",
            "showbackground": true,
            "ticks": "",
            "zerolinecolor": "white"
           },
           "zaxis": {
            "backgroundcolor": "#E5ECF6",
            "gridcolor": "white",
            "gridwidth": 2,
            "linecolor": "white",
            "showbackground": true,
            "ticks": "",
            "zerolinecolor": "white"
           }
          },
          "shapedefaults": {
           "line": {
            "color": "#2a3f5f"
           }
          },
          "ternary": {
           "aaxis": {
            "gridcolor": "white",
            "linecolor": "white",
            "ticks": ""
           },
           "baxis": {
            "gridcolor": "white",
            "linecolor": "white",
            "ticks": ""
           },
           "bgcolor": "#E5ECF6",
           "caxis": {
            "gridcolor": "white",
            "linecolor": "white",
            "ticks": ""
           }
          },
          "title": {
           "x": 0.05
          },
          "xaxis": {
           "automargin": true,
           "gridcolor": "white",
           "linecolor": "white",
           "ticks": "",
           "title": {
            "standoff": 15
           },
           "zerolinecolor": "white",
           "zerolinewidth": 2
          },
          "yaxis": {
           "automargin": true,
           "gridcolor": "white",
           "linecolor": "white",
           "ticks": "",
           "title": {
            "standoff": 15
           },
           "zerolinecolor": "white",
           "zerolinewidth": 2
          }
         }
        },
        "title": {
         "text": "PowerTAC Customers Clustering"
        },
        "xaxis": {
         "title": {
          "text": "Customers"
         }
        },
        "yaxis": {
         "title": {
          "text": "Cluster Selection"
         }
        }
       }
      },
      "text/html": [
       "<div>\n",
       "        \n",
       "        \n",
       "            <div id=\"3c5fd3ce-8fb8-41a4-9898-a782e44a1a9c\" class=\"plotly-graph-div\" style=\"height:525px; width:100%;\"></div>\n",
       "            <script type=\"text/javascript\">\n",
       "                require([\"plotly\"], function(Plotly) {\n",
       "                    window.PLOTLYENV=window.PLOTLYENV || {};\n",
       "                    \n",
       "                if (document.getElementById(\"3c5fd3ce-8fb8-41a4-9898-a782e44a1a9c\")) {\n",
       "                    Plotly.newPlot(\n",
       "                        '3c5fd3ce-8fb8-41a4-9898-a782e44a1a9c',\n",
       "                        [{\"name\": \"cluster_0\", \"text\": [646.0, 494.0, 0.0, 506.0, 2.0, 356.0, 1.0, 0.0, 0.0, 0.0, 1.0, 0.0, 0.0, 0.0, 0.0, 0.0, 15.0, 0.0, 5.0, 0.0, 5.0, 0.0, 5.0, 0.0, 11.0, 0.0, 5.0, 1.0, 5.0, 0.0, 6.0, 309.0, 653.0, 431.0, 437.0, 123.0, 348.0, 407.0, 791.0, 764.0], \"textposition\": \"outside\", \"type\": \"bar\", \"visible\": true, \"x\": [\"ppusage_BrooksideHomes\", \"ppusage_CentervilleHomes\", \"ppusage_DowntownOffices\", \"ppusage_EastsideOffices\", \"ppusage_FrostyStorage\", \"ppusage_HextraChemical\", \"ppusage_MedicalCenter-1\", \"ppusage_OfficeComplex 1 NS Base\", \"ppusage_OfficeComplex 1 NS Controllable\", \"ppusage_OfficeComplex 1 SS Base\", \"ppusage_OfficeComplex 1 SS Controllable\", \"ppusage_OfficeComplex 2 NS Base\", \"ppusage_OfficeComplex 2 NS Controllable\", \"ppusage_OfficeComplex 2 SS Base\", \"ppusage_OfficeComplex 2 SS Controllable\", \"ppusage_Village 1 NS Base\", \"ppusage_Village 1 NS Controllable\", \"ppusage_Village 1 RaS Base\", \"ppusage_Village 1 RaS Controllable\", \"ppusage_Village 1 ReS Base\", \"ppusage_Village 1 ReS Controllable\", \"ppusage_Village 1 SS Base\", \"ppusage_Village 1 SS Controllable\", \"ppusage_Village 2 NS Base\", \"ppusage_Village 2 NS Controllable\", \"ppusage_Village 2 RaS Base\", \"ppusage_Village 2 RaS Controllable\", \"ppusage_Village 2 ReS Base\", \"ppusage_Village 2 ReS Controllable\", \"ppusage_Village 2 SS Base\", \"ppusage_Village 2 SS Controllable\", \"ppusage_fc2\", \"ppusage_fc3\", \"ppusage_freezeco-1\", \"ppusage_freezeco-2\", \"ppusage_freezeco-3\", \"ppusage_seafood-1\", \"ppusage_seafood-2\", \"ppusage_sf2\", \"ppusage_sf3\"], \"y\": [646.0, 494.0, 0.0, 506.0, 2.0, 356.0, 1.0, 0.0, 0.0, 0.0, 1.0, 0.0, 0.0, 0.0, 0.0, 0.0, 15.0, 0.0, 5.0, 0.0, 5.0, 0.0, 5.0, 0.0, 11.0, 0.0, 5.0, 1.0, 5.0, 0.0, 6.0, 309.0, 653.0, 431.0, 437.0, 123.0, 348.0, 407.0, 791.0, 764.0]}, {\"name\": \"cluster_3\", \"text\": [335.0, 404.0, 1432.0, 619.0, 1249.0, 780.0, 963.0, 1204.0, 1260.0, 1147.0, 1297.0, 1192.0, 1250.0, 1137.0, 1281.0, 17.0, 595.0, 25.0, 319.0, 24.0, 320.0, 26.0, 319.0, 24.0, 559.0, 26.0, 371.0, 27.0, 373.0, 26.0, 372.0, 209.0, 0.0, 445.0, 398.0, 892.0, 431.0, 427.0, 59.0, 79.0], \"textposition\": \"outside\", \"type\": \"bar\", \"visible\": true, \"x\": [\"ppusage_BrooksideHomes\", \"ppusage_CentervilleHomes\", \"ppusage_DowntownOffices\", \"ppusage_EastsideOffices\", \"ppusage_FrostyStorage\", \"ppusage_HextraChemical\", \"ppusage_MedicalCenter-1\", \"ppusage_OfficeComplex 1 NS Base\", \"ppusage_OfficeComplex 1 NS Controllable\", \"ppusage_OfficeComplex 1 SS Base\", \"ppusage_OfficeComplex 1 SS Controllable\", \"ppusage_OfficeComplex 2 NS Base\", \"ppusage_OfficeComplex 2 NS Controllable\", \"ppusage_OfficeComplex 2 SS Base\", \"ppusage_OfficeComplex 2 SS Controllable\", \"ppusage_Village 1 NS Base\", \"ppusage_Village 1 NS Controllable\", \"ppusage_Village 1 RaS Base\", \"ppusage_Village 1 RaS Controllable\", \"ppusage_Village 1 ReS Base\", \"ppusage_Village 1 ReS Controllable\", \"ppusage_Village 1 SS Base\", \"ppusage_Village 1 SS Controllable\", \"ppusage_Village 2 NS Base\", \"ppusage_Village 2 NS Controllable\", \"ppusage_Village 2 RaS Base\", \"ppusage_Village 2 RaS Controllable\", \"ppusage_Village 2 ReS Base\", \"ppusage_Village 2 ReS Controllable\", \"ppusage_Village 2 SS Base\", \"ppusage_Village 2 SS Controllable\", \"ppusage_fc2\", \"ppusage_fc3\", \"ppusage_freezeco-1\", \"ppusage_freezeco-2\", \"ppusage_freezeco-3\", \"ppusage_seafood-1\", \"ppusage_seafood-2\", \"ppusage_sf2\", \"ppusage_sf3\"], \"y\": [335.0, 404.0, 1432.0, 619.0, 1249.0, 780.0, 963.0, 1204.0, 1260.0, 1147.0, 1297.0, 1192.0, 1250.0, 1137.0, 1281.0, 17.0, 595.0, 25.0, 319.0, 24.0, 320.0, 26.0, 319.0, 24.0, 559.0, 26.0, 371.0, 27.0, 373.0, 26.0, 372.0, 209.0, 0.0, 445.0, 398.0, 892.0, 431.0, 427.0, 59.0, 79.0]}, {\"name\": \"cluster_1\", \"text\": [202.0, 251.0, 8.0, 111.0, 109.0, 85.0, 470.0, 46.0, 174.0, 46.0, 126.0, 36.0, 186.0, 54.0, 136.0, 1419.0, 767.0, 1408.0, 1091.0, 1413.0, 1091.0, 1408.0, 1090.0, 1412.0, 789.0, 1412.0, 1046.0, 1409.0, 1047.0, 1411.0, 1046.0, 149.0, 0.0, 149.0, 173.0, 141.0, 198.0, 188.0, 0.0, 27.0], \"textposition\": \"outside\", \"type\": \"bar\", \"visible\": true, \"x\": [\"ppusage_BrooksideHomes\", \"ppusage_CentervilleHomes\", \"ppusage_DowntownOffices\", \"ppusage_EastsideOffices\", \"ppusage_FrostyStorage\", \"ppusage_HextraChemical\", \"ppusage_MedicalCenter-1\", \"ppusage_OfficeComplex 1 NS Base\", \"ppusage_OfficeComplex 1 NS Controllable\", \"ppusage_OfficeComplex 1 SS Base\", \"ppusage_OfficeComplex 1 SS Controllable\", \"ppusage_OfficeComplex 2 NS Base\", \"ppusage_OfficeComplex 2 NS Controllable\", \"ppusage_OfficeComplex 2 SS Base\", \"ppusage_OfficeComplex 2 SS Controllable\", \"ppusage_Village 1 NS Base\", \"ppusage_Village 1 NS Controllable\", \"ppusage_Village 1 RaS Base\", \"ppusage_Village 1 RaS Controllable\", \"ppusage_Village 1 ReS Base\", \"ppusage_Village 1 ReS Controllable\", \"ppusage_Village 1 SS Base\", \"ppusage_Village 1 SS Controllable\", \"ppusage_Village 2 NS Base\", \"ppusage_Village 2 NS Controllable\", \"ppusage_Village 2 RaS Base\", \"ppusage_Village 2 RaS Controllable\", \"ppusage_Village 2 ReS Base\", \"ppusage_Village 2 ReS Controllable\", \"ppusage_Village 2 SS Base\", \"ppusage_Village 2 SS Controllable\", \"ppusage_fc2\", \"ppusage_fc3\", \"ppusage_freezeco-1\", \"ppusage_freezeco-2\", \"ppusage_freezeco-3\", \"ppusage_seafood-1\", \"ppusage_seafood-2\", \"ppusage_sf2\", \"ppusage_sf3\"], \"y\": [202.0, 251.0, 8.0, 111.0, 109.0, 85.0, 470.0, 46.0, 174.0, 46.0, 126.0, 36.0, 186.0, 54.0, 136.0, 1419.0, 767.0, 1408.0, 1091.0, 1413.0, 1091.0, 1408.0, 1090.0, 1412.0, 789.0, 1412.0, 1046.0, 1409.0, 1047.0, 1411.0, 1046.0, 149.0, 0.0, 149.0, 173.0, 141.0, 198.0, 188.0, 0.0, 27.0]}, {\"name\": \"cluster_2\", \"text\": [257.0, 291.0, 0.0, 204.0, 80.0, 219.0, 6.0, 190.0, 6.0, 247.0, 16.0, 212.0, 4.0, 249.0, 23.0, 4.0, 63.0, 7.0, 25.0, 3.0, 24.0, 6.0, 26.0, 4.0, 81.0, 2.0, 18.0, 3.0, 15.0, 3.0, 16.0, 773.0, 787.0, 415.0, 432.0, 284.0, 463.0, 418.0, 590.0, 570.0], \"textposition\": \"outside\", \"type\": \"bar\", \"visible\": true, \"x\": [\"ppusage_BrooksideHomes\", \"ppusage_CentervilleHomes\", \"ppusage_DowntownOffices\", \"ppusage_EastsideOffices\", \"ppusage_FrostyStorage\", \"ppusage_HextraChemical\", \"ppusage_MedicalCenter-1\", \"ppusage_OfficeComplex 1 NS Base\", \"ppusage_OfficeComplex 1 NS Controllable\", \"ppusage_OfficeComplex 1 SS Base\", \"ppusage_OfficeComplex 1 SS Controllable\", \"ppusage_OfficeComplex 2 NS Base\", \"ppusage_OfficeComplex 2 NS Controllable\", \"ppusage_OfficeComplex 2 SS Base\", \"ppusage_OfficeComplex 2 SS Controllable\", \"ppusage_Village 1 NS Base\", \"ppusage_Village 1 NS Controllable\", \"ppusage_Village 1 RaS Base\", \"ppusage_Village 1 RaS Controllable\", \"ppusage_Village 1 ReS Base\", \"ppusage_Village 1 ReS Controllable\", \"ppusage_Village 1 SS Base\", \"ppusage_Village 1 SS Controllable\", \"ppusage_Village 2 NS Base\", \"ppusage_Village 2 NS Controllable\", \"ppusage_Village 2 RaS Base\", \"ppusage_Village 2 RaS Controllable\", \"ppusage_Village 2 ReS Base\", \"ppusage_Village 2 ReS Controllable\", \"ppusage_Village 2 SS Base\", \"ppusage_Village 2 SS Controllable\", \"ppusage_fc2\", \"ppusage_fc3\", \"ppusage_freezeco-1\", \"ppusage_freezeco-2\", \"ppusage_freezeco-3\", \"ppusage_seafood-1\", \"ppusage_seafood-2\", \"ppusage_sf2\", \"ppusage_sf3\"], \"y\": [257.0, 291.0, 0.0, 204.0, 80.0, 219.0, 6.0, 190.0, 6.0, 247.0, 16.0, 212.0, 4.0, 249.0, 23.0, 4.0, 63.0, 7.0, 25.0, 3.0, 24.0, 6.0, 26.0, 4.0, 81.0, 2.0, 18.0, 3.0, 15.0, 3.0, 16.0, 773.0, 787.0, 415.0, 432.0, 284.0, 463.0, 418.0, 590.0, 570.0]}],\n",
       "                        {\"template\": {\"data\": {\"bar\": [{\"error_x\": {\"color\": \"#2a3f5f\"}, \"error_y\": {\"color\": \"#2a3f5f\"}, \"marker\": {\"line\": {\"color\": \"#E5ECF6\", \"width\": 0.5}}, \"type\": \"bar\"}], \"barpolar\": [{\"marker\": {\"line\": {\"color\": \"#E5ECF6\", \"width\": 0.5}}, \"type\": \"barpolar\"}], \"carpet\": [{\"aaxis\": {\"endlinecolor\": \"#2a3f5f\", \"gridcolor\": \"white\", \"linecolor\": \"white\", \"minorgridcolor\": \"white\", \"startlinecolor\": \"#2a3f5f\"}, \"baxis\": {\"endlinecolor\": \"#2a3f5f\", \"gridcolor\": \"white\", \"linecolor\": \"white\", \"minorgridcolor\": \"white\", \"startlinecolor\": \"#2a3f5f\"}, \"type\": \"carpet\"}], \"choropleth\": [{\"colorbar\": {\"outlinewidth\": 0, \"ticks\": \"\"}, \"type\": \"choropleth\"}], \"contour\": [{\"colorbar\": {\"outlinewidth\": 0, \"ticks\": \"\"}, \"colorscale\": [[0.0, \"#0d0887\"], [0.1111111111111111, \"#46039f\"], [0.2222222222222222, \"#7201a8\"], [0.3333333333333333, \"#9c179e\"], [0.4444444444444444, \"#bd3786\"], [0.5555555555555556, \"#d8576b\"], [0.6666666666666666, \"#ed7953\"], [0.7777777777777778, \"#fb9f3a\"], [0.8888888888888888, \"#fdca26\"], [1.0, \"#f0f921\"]], \"type\": \"contour\"}], \"contourcarpet\": [{\"colorbar\": {\"outlinewidth\": 0, \"ticks\": \"\"}, \"type\": \"contourcarpet\"}], \"heatmap\": [{\"colorbar\": {\"outlinewidth\": 0, \"ticks\": \"\"}, \"colorscale\": [[0.0, \"#0d0887\"], [0.1111111111111111, \"#46039f\"], [0.2222222222222222, \"#7201a8\"], [0.3333333333333333, \"#9c179e\"], [0.4444444444444444, \"#bd3786\"], [0.5555555555555556, \"#d8576b\"], [0.6666666666666666, \"#ed7953\"], [0.7777777777777778, \"#fb9f3a\"], [0.8888888888888888, \"#fdca26\"], [1.0, \"#f0f921\"]], \"type\": \"heatmap\"}], \"heatmapgl\": [{\"colorbar\": {\"outlinewidth\": 0, \"ticks\": \"\"}, \"colorscale\": [[0.0, \"#0d0887\"], [0.1111111111111111, \"#46039f\"], [0.2222222222222222, \"#7201a8\"], [0.3333333333333333, \"#9c179e\"], [0.4444444444444444, \"#bd3786\"], [0.5555555555555556, \"#d8576b\"], [0.6666666666666666, \"#ed7953\"], [0.7777777777777778, \"#fb9f3a\"], [0.8888888888888888, \"#fdca26\"], [1.0, \"#f0f921\"]], \"type\": \"heatmapgl\"}], \"histogram\": [{\"marker\": {\"colorbar\": {\"outlinewidth\": 0, \"ticks\": \"\"}}, \"type\": \"histogram\"}], \"histogram2d\": [{\"colorbar\": {\"outlinewidth\": 0, \"ticks\": \"\"}, \"colorscale\": [[0.0, \"#0d0887\"], [0.1111111111111111, \"#46039f\"], [0.2222222222222222, \"#7201a8\"], [0.3333333333333333, \"#9c179e\"], [0.4444444444444444, \"#bd3786\"], [0.5555555555555556, \"#d8576b\"], [0.6666666666666666, \"#ed7953\"], [0.7777777777777778, \"#fb9f3a\"], [0.8888888888888888, \"#fdca26\"], [1.0, \"#f0f921\"]], \"type\": \"histogram2d\"}], \"histogram2dcontour\": [{\"colorbar\": {\"outlinewidth\": 0, \"ticks\": \"\"}, \"colorscale\": [[0.0, \"#0d0887\"], [0.1111111111111111, \"#46039f\"], [0.2222222222222222, \"#7201a8\"], [0.3333333333333333, \"#9c179e\"], [0.4444444444444444, \"#bd3786\"], [0.5555555555555556, \"#d8576b\"], [0.6666666666666666, \"#ed7953\"], [0.7777777777777778, \"#fb9f3a\"], [0.8888888888888888, \"#fdca26\"], [1.0, \"#f0f921\"]], \"type\": \"histogram2dcontour\"}], \"mesh3d\": [{\"colorbar\": {\"outlinewidth\": 0, \"ticks\": \"\"}, \"type\": \"mesh3d\"}], \"parcoords\": [{\"line\": {\"colorbar\": {\"outlinewidth\": 0, \"ticks\": \"\"}}, \"type\": \"parcoords\"}], \"pie\": [{\"automargin\": true, \"type\": \"pie\"}], \"scatter\": [{\"marker\": {\"colorbar\": {\"outlinewidth\": 0, \"ticks\": \"\"}}, \"type\": \"scatter\"}], \"scatter3d\": [{\"line\": {\"colorbar\": {\"outlinewidth\": 0, \"ticks\": \"\"}}, \"marker\": {\"colorbar\": {\"outlinewidth\": 0, \"ticks\": \"\"}}, \"type\": \"scatter3d\"}], \"scattercarpet\": [{\"marker\": {\"colorbar\": {\"outlinewidth\": 0, \"ticks\": \"\"}}, \"type\": \"scattercarpet\"}], \"scattergeo\": [{\"marker\": {\"colorbar\": {\"outlinewidth\": 0, \"ticks\": \"\"}}, \"type\": \"scattergeo\"}], \"scattergl\": [{\"marker\": {\"colorbar\": {\"outlinewidth\": 0, \"ticks\": \"\"}}, \"type\": \"scattergl\"}], \"scattermapbox\": [{\"marker\": {\"colorbar\": {\"outlinewidth\": 0, \"ticks\": \"\"}}, \"type\": \"scattermapbox\"}], \"scatterpolar\": [{\"marker\": {\"colorbar\": {\"outlinewidth\": 0, \"ticks\": \"\"}}, \"type\": \"scatterpolar\"}], \"scatterpolargl\": [{\"marker\": {\"colorbar\": {\"outlinewidth\": 0, \"ticks\": \"\"}}, \"type\": \"scatterpolargl\"}], \"scatterternary\": [{\"marker\": {\"colorbar\": {\"outlinewidth\": 0, \"ticks\": \"\"}}, \"type\": \"scatterternary\"}], \"surface\": [{\"colorbar\": {\"outlinewidth\": 0, \"ticks\": \"\"}, \"colorscale\": [[0.0, \"#0d0887\"], [0.1111111111111111, \"#46039f\"], [0.2222222222222222, \"#7201a8\"], [0.3333333333333333, \"#9c179e\"], [0.4444444444444444, \"#bd3786\"], [0.5555555555555556, \"#d8576b\"], [0.6666666666666666, \"#ed7953\"], [0.7777777777777778, \"#fb9f3a\"], [0.8888888888888888, \"#fdca26\"], [1.0, \"#f0f921\"]], \"type\": \"surface\"}], \"table\": [{\"cells\": {\"fill\": {\"color\": \"#EBF0F8\"}, \"line\": {\"color\": \"white\"}}, \"header\": {\"fill\": {\"color\": \"#C8D4E3\"}, \"line\": {\"color\": \"white\"}}, \"type\": \"table\"}]}, \"layout\": {\"annotationdefaults\": {\"arrowcolor\": \"#2a3f5f\", \"arrowhead\": 0, \"arrowwidth\": 1}, \"coloraxis\": {\"colorbar\": {\"outlinewidth\": 0, \"ticks\": \"\"}}, \"colorscale\": {\"diverging\": [[0, \"#8e0152\"], [0.1, \"#c51b7d\"], [0.2, \"#de77ae\"], [0.3, \"#f1b6da\"], [0.4, \"#fde0ef\"], [0.5, \"#f7f7f7\"], [0.6, \"#e6f5d0\"], [0.7, \"#b8e186\"], [0.8, \"#7fbc41\"], [0.9, \"#4d9221\"], [1, \"#276419\"]], \"sequential\": [[0.0, \"#0d0887\"], [0.1111111111111111, \"#46039f\"], [0.2222222222222222, \"#7201a8\"], [0.3333333333333333, \"#9c179e\"], [0.4444444444444444, \"#bd3786\"], [0.5555555555555556, \"#d8576b\"], [0.6666666666666666, \"#ed7953\"], [0.7777777777777778, \"#fb9f3a\"], [0.8888888888888888, \"#fdca26\"], [1.0, \"#f0f921\"]], \"sequentialminus\": [[0.0, \"#0d0887\"], [0.1111111111111111, \"#46039f\"], [0.2222222222222222, \"#7201a8\"], [0.3333333333333333, \"#9c179e\"], [0.4444444444444444, \"#bd3786\"], [0.5555555555555556, \"#d8576b\"], [0.6666666666666666, \"#ed7953\"], [0.7777777777777778, \"#fb9f3a\"], [0.8888888888888888, \"#fdca26\"], [1.0, \"#f0f921\"]]}, \"colorway\": [\"#636efa\", \"#EF553B\", \"#00cc96\", \"#ab63fa\", \"#FFA15A\", \"#19d3f3\", \"#FF6692\", \"#B6E880\", \"#FF97FF\", \"#FECB52\"], \"font\": {\"color\": \"#2a3f5f\"}, \"geo\": {\"bgcolor\": \"white\", \"lakecolor\": \"white\", \"landcolor\": \"#E5ECF6\", \"showlakes\": true, \"showland\": true, \"subunitcolor\": \"white\"}, \"hoverlabel\": {\"align\": \"left\"}, \"hovermode\": \"closest\", \"mapbox\": {\"style\": \"light\"}, \"paper_bgcolor\": \"white\", \"plot_bgcolor\": \"#E5ECF6\", \"polar\": {\"angularaxis\": {\"gridcolor\": \"white\", \"linecolor\": \"white\", \"ticks\": \"\"}, \"bgcolor\": \"#E5ECF6\", \"radialaxis\": {\"gridcolor\": \"white\", \"linecolor\": \"white\", \"ticks\": \"\"}}, \"scene\": {\"xaxis\": {\"backgroundcolor\": \"#E5ECF6\", \"gridcolor\": \"white\", \"gridwidth\": 2, \"linecolor\": \"white\", \"showbackground\": true, \"ticks\": \"\", \"zerolinecolor\": \"white\"}, \"yaxis\": {\"backgroundcolor\": \"#E5ECF6\", \"gridcolor\": \"white\", \"gridwidth\": 2, \"linecolor\": \"white\", \"showbackground\": true, \"ticks\": \"\", \"zerolinecolor\": \"white\"}, \"zaxis\": {\"backgroundcolor\": \"#E5ECF6\", \"gridcolor\": \"white\", \"gridwidth\": 2, \"linecolor\": \"white\", \"showbackground\": true, \"ticks\": \"\", \"zerolinecolor\": \"white\"}}, \"shapedefaults\": {\"line\": {\"color\": \"#2a3f5f\"}}, \"ternary\": {\"aaxis\": {\"gridcolor\": \"white\", \"linecolor\": \"white\", \"ticks\": \"\"}, \"baxis\": {\"gridcolor\": \"white\", \"linecolor\": \"white\", \"ticks\": \"\"}, \"bgcolor\": \"#E5ECF6\", \"caxis\": {\"gridcolor\": \"white\", \"linecolor\": \"white\", \"ticks\": \"\"}}, \"title\": {\"x\": 0.05}, \"xaxis\": {\"automargin\": true, \"gridcolor\": \"white\", \"linecolor\": \"white\", \"ticks\": \"\", \"title\": {\"standoff\": 15}, \"zerolinecolor\": \"white\", \"zerolinewidth\": 2}, \"yaxis\": {\"automargin\": true, \"gridcolor\": \"white\", \"linecolor\": \"white\", \"ticks\": \"\", \"title\": {\"standoff\": 15}, \"zerolinecolor\": \"white\", \"zerolinewidth\": 2}}}, \"title\": {\"text\": \"PowerTAC Customers Clustering\"}, \"xaxis\": {\"title\": {\"text\": \"Customers\"}}, \"yaxis\": {\"title\": {\"text\": \"Cluster Selection\"}}},\n",
       "                        {\"responsive\": true}\n",
       "                    ).then(function(){\n",
       "                            \n",
       "var gd = document.getElementById('3c5fd3ce-8fb8-41a4-9898-a782e44a1a9c');\n",
       "var x = new MutationObserver(function (mutations, observer) {{\n",
       "        var display = window.getComputedStyle(gd).display;\n",
       "        if (!display || display === 'none') {{\n",
       "            console.log([gd, 'removed!']);\n",
       "            Plotly.purge(gd);\n",
       "            observer.disconnect();\n",
       "        }}\n",
       "}});\n",
       "\n",
       "// Listen for the removal of the full notebook cells\n",
       "var notebookContainer = gd.closest('#notebook-container');\n",
       "if (notebookContainer) {{\n",
       "    x.observe(notebookContainer, {childList: true});\n",
       "}}\n",
       "\n",
       "// Listen for the clearing of the current output cell\n",
       "var outputEl = gd.closest('.output');\n",
       "if (outputEl) {{\n",
       "    x.observe(outputEl, {childList: true});\n",
       "}}\n",
       "\n",
       "                        })\n",
       "                };\n",
       "                });\n",
       "            </script>\n",
       "        </div>"
      ]
     },
     "metadata": {},
     "output_type": "display_data"
    }
   ],
   "source": [
    "classnames = [filecustomers[int(value.item())] for value in Y]\n",
    "clusternames = [f\"cluster_{value}\" for value in C]\n",
    "dataframe = pd.DataFrame.from_records({'customers': classnames, 'clustername': clusternames})\n",
    "\n",
    "fig = go.Figure()\n",
    "for clustername in dataframe['clustername'].unique():\n",
    "    df = dataframe.loc[dataframe['clustername']==clustername, ['customers']].reset_index(drop=True)\n",
    "    df['count'] = 1\n",
    "    df = df.groupby(by=['customers']).sum().reset_index()\n",
    "    df = pd.merge(df, pd.DataFrame.from_records({'customers':filecustomers}), on=['customers'], how='right', validate='1:1')\n",
    "    df.fillna(0, inplace=True)\n",
    "    df.sort_values(by=['customers'], key=lambda x: x.map({name:idno for idno,name in enumerate(filecustomers)}), inplace=True)\n",
    "\n",
    "    fig.add_trace( go.Bar(x=df['customers'], y=df['count'], text=df['count'], textposition='outside', visible=True, name=clustername) )\n",
    "\n",
    "fig.update_layout(title=f\"PowerTAC Customers Clustering\", xaxis_title=\"Customers\", yaxis_title=\"Cluster Selection\")\n",
    "fig.show()"
   ]
  },
  {
   "cell_type": "code",
   "execution_count": 57,
   "metadata": {},
   "outputs": [],
   "source": [
    "with open(f'cc.html', 'w') as f:\n",
    "    f.write(fig.to_html(full_html=False, include_plotlyjs='cdn'))"
   ]
  },
  {
   "cell_type": "code",
   "execution_count": null,
   "metadata": {},
   "outputs": [],
   "source": []
  }
 ],
 "metadata": {
  "kernelspec": {
   "display_name": "Python 3",
   "language": "python",
   "name": "python3"
  },
  "language_info": {
   "codemirror_mode": {
    "name": "ipython",
    "version": 3
   },
   "file_extension": ".py",
   "mimetype": "text/x-python",
   "name": "python",
   "nbconvert_exporter": "python",
   "pygments_lexer": "ipython3",
   "version": "3.6.9"
  }
 },
 "nbformat": 4,
 "nbformat_minor": 4
}
