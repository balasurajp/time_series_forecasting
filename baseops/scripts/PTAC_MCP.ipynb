{
 "cells": [
  {
   "cell_type": "code",
   "execution_count": 1,
   "metadata": {
    "scrolled": true
   },
   "outputs": [],
   "source": [
    "import json, os, joblib, sys\n",
    "import pandas as pd, numpy as np\n",
    "\n",
    "sys.path.insert(0, os.path.abspath('../'))\n",
    "from assist.utils import normalScaler"
   ]
  },
  {
   "cell_type": "code",
   "execution_count": 2,
   "metadata": {},
   "outputs": [],
   "source": [
    "dataframe = pd.read_csv(f\"{os.path.abspath('../')}/data/raw/MCP_data.csv\")\n",
    "dataframe = dataframe[['Game Name', 'Actual Bidding Date', 'Proximity', 'MCP']]\n",
    "dataframe.columns = ['simulation', 'timestamp', 'proximity', 'mcp']\n",
    "dataframe['timestamp'] = dataframe['timestamp'].astype('datetime64[h]')"
   ]
  },
  {
   "cell_type": "code",
   "execution_count": 3,
   "metadata": {},
   "outputs": [
    {
     "data": {
      "text/plain": [
       "['/home/suraj/Desktop/nbeats/data/mcp/scalebook']"
      ]
     },
     "execution_count": 3,
     "metadata": {},
     "output_type": "execute_result"
    }
   ],
   "source": [
    "dst = '/home/suraj/Desktop/nbeats/data/mcp'\n",
    "os.makedirs(f'{dst}/train', exist_ok=True)\n",
    "os.makedirs(f'{dst}/test', exist_ok=True)\n",
    "\n",
    "dataframe['timestamp'] = dataframe['timestamp'].astype('datetime64[h]')\n",
    "mcpbook = {}\n",
    "for i in range(24):\n",
    "    mcpbook[f'mcp_{i+1}'] = []\n",
    "    mcpbook[f'mcp_{i+1}_EWA'] = []\n",
    "    mcpbook[f'mcp_{i+1}_GWA'] = []\n",
    "\n",
    "for sim in dataframe['simulation'].unique():\n",
    "    miniframe = dataframe[dataframe['simulation']==sim].reset_index(drop=True)\n",
    "    miniframe = miniframe.pivot(index='timestamp', columns='proximity', values='mcp').reset_index()\n",
    "    miniframe.columns = ['timestamp'] + [f'mcp_{i+1}' for i in range(24)]\n",
    "    \n",
    "    for i in range(24):\n",
    "        miniframe[f'mcp_{i+1}_EWA'] = miniframe[f'mcp_{i+1}'].ewm(alpha = 0.6).mean()\n",
    "        miniframe[f'mcp_{i+1}_GWA'] = miniframe[f'mcp_{i+1}'].rolling(window=5, win_type='gaussian', min_periods=1, center=True).mean(std=1)\n",
    "    \n",
    "    miniframe.set_index('timestamp', inplace=True)\n",
    "    miniframe = miniframe.resample('H').interpolate()\n",
    "    miniframe = miniframe.reset_index()\n",
    "    \n",
    "    nums = int(0.8*(len(miniframe)))\n",
    "    trnframe = miniframe.head(nums)\n",
    "    tstframe = miniframe.tail(len(miniframe)-nums+168)\n",
    "    \n",
    "    for i in range(24):\n",
    "        mcpbook[f'mcp_{i+1}'] = mcpbook[f'mcp_{i+1}'] + trnframe[f'mcp_{i+1}'].tolist()\n",
    "        mcpbook[f'mcp_{i+1}_EWA'] = mcpbook[f'mcp_{i+1}_EWA'] + trnframe[f'mcp_{i+1}_EWA'].tolist()\n",
    "        mcpbook[f'mcp_{i+1}_GWA'] = mcpbook[f'mcp_{i+1}_GWA'] + trnframe[f'mcp_{i+1}_GWA'].tolist()\n",
    "    \n",
    "    trnframe.to_csv(f'{dst}/train/{sim}.csv', index=False)\n",
    "    tstframe.to_csv(f'{dst}/test/{sim}.csv', index=False)\n",
    "    \n",
    "scalebook = {}\n",
    "for name, data in mcpbook.items():\n",
    "    data = np.array(data)\n",
    "    scalebook[name] = normalScaler(mean=data.mean(), std=data.std())\n",
    "joblib.dump(scalebook, f'{dst}/scalebook')"
   ]
  },
  {
   "cell_type": "code",
   "execution_count": null,
   "metadata": {},
   "outputs": [],
   "source": []
  }
 ],
 "metadata": {
  "kernelspec": {
   "display_name": "Python 3",
   "language": "python",
   "name": "python3"
  },
  "language_info": {
   "codemirror_mode": {
    "name": "ipython",
    "version": 3
   },
   "file_extension": ".py",
   "mimetype": "text/x-python",
   "name": "python",
   "nbconvert_exporter": "python",
   "pygments_lexer": "ipython3",
   "version": "3.6.9"
  }
 },
 "nbformat": 4,
 "nbformat_minor": 4
}
